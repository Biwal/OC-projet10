{
 "cells": [
  {
   "cell_type": "code",
   "execution_count": 33,
   "metadata": {},
   "outputs": [],
   "source": [
    "import json"
   ]
  },
  {
   "cell_type": "code",
   "execution_count": 67,
   "metadata": {},
   "outputs": [],
   "source": [
    "with open(\"data/raw_data.json\") as jsonFile:\n",
    "    jsonObject = json.load(jsonFile)\n",
    "    jsonFile.close()"
   ]
  },
  {
   "cell_type": "code",
   "execution_count": 109,
   "metadata": {},
   "outputs": [],
   "source": [
    "data=[]\n",
    "for user in jsonObject:\n",
    "    for message in user['turns'][::2]:\n",
    "        sub = {}\n",
    "        sub['text']= message['text']\n",
    "        sub['intent'] = 'BookFlight'\n",
    "        \n",
    "        entities_name =  json_extract(message[\"labels\"]['acts'], 'val')\n",
    "        entities_value =  json_extract(message[\"labels\"]['acts'], 'key')\n",
    "        # print(entities_value)\n",
    "        indexes=[]\n",
    "        indexes = [i for i in range(len(entities_name)) if not isinstance(entities_name[i],str)]\n",
    "        if indexes != []:\n",
    "            if len(indexes)>1:\n",
    "                indexes.sort(reverse=True)\n",
    "            for index in indexes:\n",
    "                entities_name.pop(index)\n",
    "                entities_value.pop(index)\n",
    "        positions=[]    \n",
    "        if len(entities_name)>0:\n",
    "            positions = [(message['text'].find(substring),message['text'].find(substring) + len(substring) - 1 ) for substring in entities_name]\n",
    "        ind=[]\n",
    "        ind= [i for i in range(len(positions)) if positions[i][0] == -1]\n",
    "        if len(ind)>0:\n",
    "            if len(ind)>1:\n",
    "                ind.sort(reverse=True)\n",
    "            for index in ind:\n",
    "                entities_name.pop(index)\n",
    "                entities_value.pop(index)\n",
    "                positions.pop(index)    \n",
    "        entities_filters = ['or_city', 'price', 'dst_city', 'dep_time_dst', 'dep_time_or', 'budget', 'intent','duration','action', 'str_date', 'end_date']\n",
    "                \n",
    "        entities = []\n",
    "        if len(entities_name)>0:\n",
    "            for entitie_value, position, entitie_name  in zip(entities_value, positions, entities_name):\n",
    "                # if  any([ent in entities_filters for ent in entitie_value] ):\n",
    "                if entitie_value in entities_filters:\n",
    "                    entitie = {\"entity\": entitie_value,\n",
    "                            \"startPos\":position[0],\n",
    "                            \"endPos\":position[1]}\n",
    "                    entities.append(entitie)\n",
    "                \n",
    "        sub['entities'] = entities\n",
    "        if entities != []:\n",
    "            data.append(sub)\n",
    "with open('utterances.json', 'w', encoding='utf8') as f:\n",
    "    json.dump(data, f,ensure_ascii=False)"
   ]
  },
  {
   "cell_type": "code",
   "execution_count": 95,
   "metadata": {},
   "outputs": [],
   "source": [
    "entities_list = list(set(json_extract(data,'entity')))\n",
    "entities_json = []\n",
    "for entity in entities_list:\n",
    "    substr = {\"name\":entity,\n",
    "              \"children\":[],\n",
    "              \"roles\":[],\n",
    "              \"features\":[]}\n",
    "    entities_json.append(substr)\n",
    "with open('entities.json', 'w') as f:\n",
    "    json.dump(entities_json, f)\n"
   ]
  },
  {
   "cell_type": "code",
   "execution_count": 37,
   "metadata": {},
   "outputs": [],
   "source": [
    "def json_extract(obj, key):\n",
    "    \"\"\"Recursively fetch values from nested JSON.\"\"\"\n",
    "    arr = []\n",
    "\n",
    "    def extract(obj, arr, key):\n",
    "        \"\"\"Recursively search for values of key in JSON tree.\"\"\"\n",
    "        if isinstance(obj, dict):\n",
    "            for k, v in obj.items():\n",
    "                if isinstance(v, (dict, list)):\n",
    "                    extract(v, arr, key)\n",
    "                elif k == key:\n",
    "                    arr.append(v)\n",
    "        elif isinstance(obj, list):\n",
    "            for item in obj:\n",
    "                extract(item, arr, key)\n",
    "        return arr\n",
    "\n",
    "    values = extract(obj, arr, key)\n",
    "    return values"
   ]
  },
  {
   "cell_type": "code",
   "execution_count": 104,
   "metadata": {},
   "outputs": [
    {
     "name": "stdout",
     "output_type": "stream",
     "text": [
      "False\n"
     ]
    }
   ],
   "source": [
    "array = [1, 2, 3]\n",
    "az = [5,4]\n",
    "exists = any( [a in array for a in az])\n",
    "\n",
    "print(exists)"
   ]
  },
  {
   "cell_type": "code",
   "execution_count": null,
   "metadata": {},
   "outputs": [],
   "source": []
  }
 ],
 "metadata": {
  "interpreter": {
   "hash": "fc7354eb156d248acdfa9cf9cec8e66ecec3bf15bfd824ab83891f413fd719f0"
  },
  "kernelspec": {
   "display_name": "Python 3.7.5 ('ENV': venv)",
   "language": "python",
   "name": "python3"
  },
  "language_info": {
   "codemirror_mode": {
    "name": "ipython",
    "version": 3
   },
   "file_extension": ".py",
   "mimetype": "text/x-python",
   "name": "python",
   "nbconvert_exporter": "python",
   "pygments_lexer": "ipython3",
   "version": "3.10.5"
  },
  "orig_nbformat": 4
 },
 "nbformat": 4,
 "nbformat_minor": 2
}
